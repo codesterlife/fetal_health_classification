{
 "cells": [
  {
   "cell_type": "markdown",
   "id": "04847f8c",
   "metadata": {},
   "source": [
    "# **<center><u>Fetal Health Prediction using Machine Learning.</u></center>**\n",
    "\n",
    "#### **<u>Abstract</u>**\n",
    "\n",
    "**Classify fetal health in order to prevent child and maternal mortality**\n",
    "\n",
    "#### **<u>Data</u>**\n",
    "\n",
    "**This dataset contains 2126 records of features extracted from Cardiotocogram exams, which were then classified by three expert obstetritians into 3 classes: **\n",
    "\n",
    "* *Normal*\n",
    "* *Suspect*\n",
    "* *Pathological*\n",
    "\n",
    "#### **<u>Objective</u>**\n",
    "\n",
    "**Create a multiclass model to classify CTG features into the above mentioned bthree fetal health states.**\n",
    "\n",
    "#### **[Dataset Source](https://www.kaggle.com/datasets/andrewmvd/fetal-health-classification)**\n"
   ]
  },
  {
   "cell_type": "code",
   "execution_count": 73,
   "id": "9661ad50",
   "metadata": {},
   "outputs": [],
   "source": [
    "import numpy as np\n",
    "import pandas as pd\n",
    "from sklearn.model_selection import train_test_split\n",
    "from sklearn.preprocessing import StandardScaler\n",
    "from sklearn.neighbors import KNeighborsClassifier\n",
    "from sklearn.svm import SVC\n",
    "from sklearn.naive_bayes import GaussianNB\n",
    "from sklearn.tree import DecisionTreeClassifier\n",
    "from sklearn.linear_model import LogisticRegression\n",
    "from sklearn.metrics import classification_report, accuracy_score, confusion_matrix, ConfusionMatrixDisplay"
   ]
  },
  {
   "cell_type": "code",
   "execution_count": 74,
   "id": "14034230",
   "metadata": {
    "scrolled": true
   },
   "outputs": [
    {
     "data": {
      "text/html": [
       "<div>\n",
       "<style scoped>\n",
       "    .dataframe tbody tr th:only-of-type {\n",
       "        vertical-align: middle;\n",
       "    }\n",
       "\n",
       "    .dataframe tbody tr th {\n",
       "        vertical-align: top;\n",
       "    }\n",
       "\n",
       "    .dataframe thead th {\n",
       "        text-align: right;\n",
       "    }\n",
       "</style>\n",
       "<table border=\"1\" class=\"dataframe\">\n",
       "  <thead>\n",
       "    <tr style=\"text-align: right;\">\n",
       "      <th></th>\n",
       "      <th>baseline value</th>\n",
       "      <th>accelerations</th>\n",
       "      <th>fetal_movement</th>\n",
       "      <th>uterine_contractions</th>\n",
       "      <th>light_decelerations</th>\n",
       "      <th>severe_decelerations</th>\n",
       "      <th>prolongued_decelerations</th>\n",
       "      <th>abnormal_short_term_variability</th>\n",
       "      <th>mean_value_of_short_term_variability</th>\n",
       "      <th>percentage_of_time_with_abnormal_long_term_variability</th>\n",
       "      <th>...</th>\n",
       "      <th>histogram_min</th>\n",
       "      <th>histogram_max</th>\n",
       "      <th>histogram_number_of_peaks</th>\n",
       "      <th>histogram_number_of_zeroes</th>\n",
       "      <th>histogram_mode</th>\n",
       "      <th>histogram_mean</th>\n",
       "      <th>histogram_median</th>\n",
       "      <th>histogram_variance</th>\n",
       "      <th>histogram_tendency</th>\n",
       "      <th>fetal_health</th>\n",
       "    </tr>\n",
       "  </thead>\n",
       "  <tbody>\n",
       "    <tr>\n",
       "      <th>0</th>\n",
       "      <td>120.0</td>\n",
       "      <td>0.000</td>\n",
       "      <td>0.0</td>\n",
       "      <td>0.000</td>\n",
       "      <td>0.000</td>\n",
       "      <td>0.0</td>\n",
       "      <td>0.0</td>\n",
       "      <td>73.0</td>\n",
       "      <td>0.5</td>\n",
       "      <td>43.0</td>\n",
       "      <td>...</td>\n",
       "      <td>62.0</td>\n",
       "      <td>126.0</td>\n",
       "      <td>2.0</td>\n",
       "      <td>0.0</td>\n",
       "      <td>120.0</td>\n",
       "      <td>137.0</td>\n",
       "      <td>121.0</td>\n",
       "      <td>73.0</td>\n",
       "      <td>1.0</td>\n",
       "      <td>2.0</td>\n",
       "    </tr>\n",
       "    <tr>\n",
       "      <th>1</th>\n",
       "      <td>132.0</td>\n",
       "      <td>0.006</td>\n",
       "      <td>0.0</td>\n",
       "      <td>0.006</td>\n",
       "      <td>0.003</td>\n",
       "      <td>0.0</td>\n",
       "      <td>0.0</td>\n",
       "      <td>17.0</td>\n",
       "      <td>2.1</td>\n",
       "      <td>0.0</td>\n",
       "      <td>...</td>\n",
       "      <td>68.0</td>\n",
       "      <td>198.0</td>\n",
       "      <td>6.0</td>\n",
       "      <td>1.0</td>\n",
       "      <td>141.0</td>\n",
       "      <td>136.0</td>\n",
       "      <td>140.0</td>\n",
       "      <td>12.0</td>\n",
       "      <td>0.0</td>\n",
       "      <td>1.0</td>\n",
       "    </tr>\n",
       "    <tr>\n",
       "      <th>2</th>\n",
       "      <td>133.0</td>\n",
       "      <td>0.003</td>\n",
       "      <td>0.0</td>\n",
       "      <td>0.008</td>\n",
       "      <td>0.003</td>\n",
       "      <td>0.0</td>\n",
       "      <td>0.0</td>\n",
       "      <td>16.0</td>\n",
       "      <td>2.1</td>\n",
       "      <td>0.0</td>\n",
       "      <td>...</td>\n",
       "      <td>68.0</td>\n",
       "      <td>198.0</td>\n",
       "      <td>5.0</td>\n",
       "      <td>1.0</td>\n",
       "      <td>141.0</td>\n",
       "      <td>135.0</td>\n",
       "      <td>138.0</td>\n",
       "      <td>13.0</td>\n",
       "      <td>0.0</td>\n",
       "      <td>1.0</td>\n",
       "    </tr>\n",
       "    <tr>\n",
       "      <th>3</th>\n",
       "      <td>134.0</td>\n",
       "      <td>0.003</td>\n",
       "      <td>0.0</td>\n",
       "      <td>0.008</td>\n",
       "      <td>0.003</td>\n",
       "      <td>0.0</td>\n",
       "      <td>0.0</td>\n",
       "      <td>16.0</td>\n",
       "      <td>2.4</td>\n",
       "      <td>0.0</td>\n",
       "      <td>...</td>\n",
       "      <td>53.0</td>\n",
       "      <td>170.0</td>\n",
       "      <td>11.0</td>\n",
       "      <td>0.0</td>\n",
       "      <td>137.0</td>\n",
       "      <td>134.0</td>\n",
       "      <td>137.0</td>\n",
       "      <td>13.0</td>\n",
       "      <td>1.0</td>\n",
       "      <td>1.0</td>\n",
       "    </tr>\n",
       "    <tr>\n",
       "      <th>4</th>\n",
       "      <td>132.0</td>\n",
       "      <td>0.007</td>\n",
       "      <td>0.0</td>\n",
       "      <td>0.008</td>\n",
       "      <td>0.000</td>\n",
       "      <td>0.0</td>\n",
       "      <td>0.0</td>\n",
       "      <td>16.0</td>\n",
       "      <td>2.4</td>\n",
       "      <td>0.0</td>\n",
       "      <td>...</td>\n",
       "      <td>53.0</td>\n",
       "      <td>170.0</td>\n",
       "      <td>9.0</td>\n",
       "      <td>0.0</td>\n",
       "      <td>137.0</td>\n",
       "      <td>136.0</td>\n",
       "      <td>138.0</td>\n",
       "      <td>11.0</td>\n",
       "      <td>1.0</td>\n",
       "      <td>1.0</td>\n",
       "    </tr>\n",
       "  </tbody>\n",
       "</table>\n",
       "<p>5 rows × 22 columns</p>\n",
       "</div>"
      ],
      "text/plain": [
       "   baseline value  accelerations  fetal_movement  uterine_contractions  \\\n",
       "0           120.0          0.000             0.0                 0.000   \n",
       "1           132.0          0.006             0.0                 0.006   \n",
       "2           133.0          0.003             0.0                 0.008   \n",
       "3           134.0          0.003             0.0                 0.008   \n",
       "4           132.0          0.007             0.0                 0.008   \n",
       "\n",
       "   light_decelerations  severe_decelerations  prolongued_decelerations  \\\n",
       "0                0.000                   0.0                       0.0   \n",
       "1                0.003                   0.0                       0.0   \n",
       "2                0.003                   0.0                       0.0   \n",
       "3                0.003                   0.0                       0.0   \n",
       "4                0.000                   0.0                       0.0   \n",
       "\n",
       "   abnormal_short_term_variability  mean_value_of_short_term_variability  \\\n",
       "0                             73.0                                   0.5   \n",
       "1                             17.0                                   2.1   \n",
       "2                             16.0                                   2.1   \n",
       "3                             16.0                                   2.4   \n",
       "4                             16.0                                   2.4   \n",
       "\n",
       "   percentage_of_time_with_abnormal_long_term_variability  ...  histogram_min  \\\n",
       "0                                               43.0       ...           62.0   \n",
       "1                                                0.0       ...           68.0   \n",
       "2                                                0.0       ...           68.0   \n",
       "3                                                0.0       ...           53.0   \n",
       "4                                                0.0       ...           53.0   \n",
       "\n",
       "   histogram_max  histogram_number_of_peaks  histogram_number_of_zeroes  \\\n",
       "0          126.0                        2.0                         0.0   \n",
       "1          198.0                        6.0                         1.0   \n",
       "2          198.0                        5.0                         1.0   \n",
       "3          170.0                       11.0                         0.0   \n",
       "4          170.0                        9.0                         0.0   \n",
       "\n",
       "   histogram_mode  histogram_mean  histogram_median  histogram_variance  \\\n",
       "0           120.0           137.0             121.0                73.0   \n",
       "1           141.0           136.0             140.0                12.0   \n",
       "2           141.0           135.0             138.0                13.0   \n",
       "3           137.0           134.0             137.0                13.0   \n",
       "4           137.0           136.0             138.0                11.0   \n",
       "\n",
       "   histogram_tendency  fetal_health  \n",
       "0                 1.0           2.0  \n",
       "1                 0.0           1.0  \n",
       "2                 0.0           1.0  \n",
       "3                 1.0           1.0  \n",
       "4                 1.0           1.0  \n",
       "\n",
       "[5 rows x 22 columns]"
      ]
     },
     "execution_count": 74,
     "metadata": {},
     "output_type": "execute_result"
    }
   ],
   "source": [
    "df = pd.read_csv('./fetal_health.csv')\n",
    "\n",
    "df.head()"
   ]
  },
  {
   "cell_type": "code",
   "execution_count": 75,
   "id": "d7e2c576",
   "metadata": {
    "scrolled": true
   },
   "outputs": [
    {
     "name": "stdout",
     "output_type": "stream",
     "text": [
      "<class 'pandas.core.frame.DataFrame'>\n",
      "RangeIndex: 2126 entries, 0 to 2125\n",
      "Data columns (total 22 columns):\n",
      " #   Column                                                  Non-Null Count  Dtype  \n",
      "---  ------                                                  --------------  -----  \n",
      " 0   baseline value                                          2126 non-null   float64\n",
      " 1   accelerations                                           2126 non-null   float64\n",
      " 2   fetal_movement                                          2126 non-null   float64\n",
      " 3   uterine_contractions                                    2126 non-null   float64\n",
      " 4   light_decelerations                                     2126 non-null   float64\n",
      " 5   severe_decelerations                                    2126 non-null   float64\n",
      " 6   prolongued_decelerations                                2126 non-null   float64\n",
      " 7   abnormal_short_term_variability                         2126 non-null   float64\n",
      " 8   mean_value_of_short_term_variability                    2126 non-null   float64\n",
      " 9   percentage_of_time_with_abnormal_long_term_variability  2126 non-null   float64\n",
      " 10  mean_value_of_long_term_variability                     2126 non-null   float64\n",
      " 11  histogram_width                                         2126 non-null   float64\n",
      " 12  histogram_min                                           2126 non-null   float64\n",
      " 13  histogram_max                                           2126 non-null   float64\n",
      " 14  histogram_number_of_peaks                               2126 non-null   float64\n",
      " 15  histogram_number_of_zeroes                              2126 non-null   float64\n",
      " 16  histogram_mode                                          2126 non-null   float64\n",
      " 17  histogram_mean                                          2126 non-null   float64\n",
      " 18  histogram_median                                        2126 non-null   float64\n",
      " 19  histogram_variance                                      2126 non-null   float64\n",
      " 20  histogram_tendency                                      2126 non-null   float64\n",
      " 21  fetal_health                                            2126 non-null   float64\n",
      "dtypes: float64(22)\n",
      "memory usage: 365.5 KB\n"
     ]
    }
   ],
   "source": [
    "df.info()"
   ]
  },
  {
   "cell_type": "code",
   "execution_count": 76,
   "id": "46871564",
   "metadata": {
    "scrolled": true
   },
   "outputs": [
    {
     "data": {
      "text/plain": [
       "baseline value                                            0\n",
       "accelerations                                             0\n",
       "fetal_movement                                            0\n",
       "uterine_contractions                                      0\n",
       "light_decelerations                                       0\n",
       "severe_decelerations                                      0\n",
       "prolongued_decelerations                                  0\n",
       "abnormal_short_term_variability                           0\n",
       "mean_value_of_short_term_variability                      0\n",
       "percentage_of_time_with_abnormal_long_term_variability    0\n",
       "mean_value_of_long_term_variability                       0\n",
       "histogram_width                                           0\n",
       "histogram_min                                             0\n",
       "histogram_max                                             0\n",
       "histogram_number_of_peaks                                 0\n",
       "histogram_number_of_zeroes                                0\n",
       "histogram_mode                                            0\n",
       "histogram_mean                                            0\n",
       "histogram_median                                          0\n",
       "histogram_variance                                        0\n",
       "histogram_tendency                                        0\n",
       "fetal_health                                              0\n",
       "dtype: int64"
      ]
     },
     "execution_count": 76,
     "metadata": {},
     "output_type": "execute_result"
    }
   ],
   "source": [
    "df.isna().sum()"
   ]
  },
  {
   "cell_type": "code",
   "execution_count": 77,
   "id": "c34de3f9",
   "metadata": {
    "scrolled": true
   },
   "outputs": [],
   "source": [
    "# converting the data into training and testing data\n",
    "\n",
    "x = df.iloc[:, :-1].values # input data\n",
    "y = df.iloc[:, -1].values # output data"
   ]
  },
  {
   "cell_type": "code",
   "execution_count": 78,
   "id": "fa1eae78",
   "metadata": {},
   "outputs": [],
   "source": [
    "# splitting the data into training and testing data\n",
    "\n",
    "x_train, x_test, y_train, y_test = train_test_split(x, y, test_size = 0.30, random_state = 1)"
   ]
  },
  {
   "cell_type": "code",
   "execution_count": 79,
   "id": "3a189f3f",
   "metadata": {
    "scrolled": true
   },
   "outputs": [],
   "source": [
    "# Normalization of data\n",
    "\n",
    "scaler = StandardScaler()\n",
    "\n",
    "scaler.fit(x_train)\n",
    "\n",
    "x_train = scaler.transform(x_train)\n",
    "\n",
    "x_test = scaler.transform(x_test)"
   ]
  },
  {
   "cell_type": "code",
   "execution_count": 80,
   "id": "756a1862",
   "metadata": {},
   "outputs": [
    {
     "name": "stdout",
     "output_type": "stream",
     "text": [
      "SVC(): 91.06583072100314\n",
      "\n",
      "KNeighborsClassifier(): 89.65517241379311\n",
      "\n",
      "GaussianNB(): 70.21943573667711\n",
      "\n",
      "DecisionTreeClassifier(): 90.9090909090909\n",
      "\n",
      "LogisticRegression(): 90.12539184952978\n",
      "\n"
     ]
    }
   ],
   "source": [
    "# training various different machine learning model to select one with most accuracy\n",
    "\n",
    "models = [SVC(), KNeighborsClassifier(n_neighbors = 5), GaussianNB(), DecisionTreeClassifier(), LogisticRegression()]\n",
    "\n",
    "for model in models:\n",
    "    model.fit(x_train, y_train)\n",
    "    y_pred = model.predict(x_test)\n",
    "    score = accuracy_score(y_test, y_pred) * 100\n",
    "    print(\"{}: {}\".format(model,score), end=\"\\n\\n\")"
   ]
  },
  {
   "cell_type": "markdown",
   "id": "213825af",
   "metadata": {},
   "source": [
    "#### It was found through testing that ***DecisionTreeClassifier*** provides the ***most accurate result*** among all the trained and tested model. Hence proceeding with running DecisionTreeClassifier model on the testing data."
   ]
  },
  {
   "cell_type": "code",
   "execution_count": 81,
   "id": "b47236f8",
   "metadata": {},
   "outputs": [
    {
     "name": "stdout",
     "output_type": "stream",
     "text": [
      "                    precision    recall  f1-score   support\n",
      "\n",
      "      Normal - 1.0       0.94      0.97      0.95       490\n",
      "     Suspect - 2.0       0.78      0.68      0.73        96\n",
      "Pathological - 3.0       0.89      0.90      0.90        52\n",
      "\n",
      "          accuracy                           0.92       638\n",
      "         macro avg       0.87      0.85      0.86       638\n",
      "      weighted avg       0.91      0.92      0.91       638\n"
     ]
    }
   ],
   "source": [
    "# Running the DecisionTreeClassifier model on the testing data again for more detailed analysis\n",
    "\n",
    "model = models[3] # 3 being the index position of the classifier initialization on the above array of models\n",
    "\n",
    "model.fit(x_train, y_train)\n",
    "\n",
    "y_pred = model.predict(x_test)\n",
    "\n",
    "report = classification_report(y_test, y_pred, target_names = [\"Normal - 1.0\", \"Suspect - 2.0\", \"Pathological - 3.0\"])\n",
    "\n",
    "print(report, end=\"\")"
   ]
  },
  {
   "cell_type": "code",
   "execution_count": 83,
   "id": "129629ca",
   "metadata": {},
   "outputs": [
    {
     "data": {
      "text/plain": [
       "array([[473,  15,   2],\n",
       "       [ 27,  65,   4],\n",
       "       [  2,   3,  47]])"
      ]
     },
     "execution_count": 83,
     "metadata": {},
     "output_type": "execute_result"
    }
   ],
   "source": [
    "confusion = confusion_matrix(y_test, y_pred)\n",
    "\n",
    "confusion"
   ]
  },
  {
   "cell_type": "code",
   "execution_count": 86,
   "id": "989ef674",
   "metadata": {},
   "outputs": [
    {
     "data": {
      "text/plain": [
       "<sklearn.metrics._plot.confusion_matrix.ConfusionMatrixDisplay at 0x7f4b34d1d5b0>"
      ]
     },
     "execution_count": 86,
     "metadata": {},
     "output_type": "execute_result"
    },
    {
     "data": {
      "image/png": "[encoded data removed]",
      "text/plain": [
       "<Figure size 640x480 with 2 Axes>"
      ]
     },
     "metadata": {},
     "output_type": "display_data"
    }
   ],
   "source": [
    "cmd = ConfusionMatrixDisplay(confusion, display_labels = [1, 2, 3])\n",
    "\n",
    "cmd.plot()"
   ]
  }
 ],
 "metadata": {
  "kernelspec": {
   "display_name": "Python 3 (ipykernel)",
   "language": "python",
   "name": "python3"
  },
  "language_info": {
   "codemirror_mode": {
    "name": "ipython",
    "version": 3
   },
   "file_extension": ".py",
   "mimetype": "text/x-python",
   "name": "python",
   "nbconvert_exporter": "python",
   "pygments_lexer": "ipython3",
   "version": "3.8.10"
  }
 },
 "nbformat": 4,
 "nbformat_minor": 5
}
